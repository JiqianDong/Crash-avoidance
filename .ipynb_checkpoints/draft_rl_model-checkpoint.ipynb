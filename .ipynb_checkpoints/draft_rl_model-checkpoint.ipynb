{
 "cells": [
  {
   "cell_type": "code",
   "execution_count": 2,
   "metadata": {},
   "outputs": [],
   "source": [
    "import numpy as np\n",
    "import tensorflow as tf"
   ]
  },
  {
   "cell_type": "code",
   "execution_count": 3,
   "metadata": {},
   "outputs": [],
   "source": [
    "import torch"
   ]
  },
  {
   "cell_type": "code",
   "execution_count": 2,
   "metadata": {},
   "outputs": [],
   "source": []
  },
  {
   "cell_type": "code",
   "execution_count": 2,
   "metadata": {
    "tags": []
   },
   "outputs": [],
   "source": [
    "# ! pip install gym"
   ]
  },
  {
   "cell_type": "code",
   "execution_count": 3,
   "metadata": {},
   "outputs": [],
   "source": [
    "from gym.spaces import Discrete\n",
    "from gym.spaces import Tuple\n",
    "from gym.spaces.box import Box"
   ]
  },
  {
   "cell_type": "code",
   "execution_count": 4,
   "metadata": {},
   "outputs": [],
   "source": [
    "throttle_brake = Discrete(3)  # -1 brake, 0 keep, 1 throttle\n",
    "steering = Discrete(3)\n",
    "action_space = Tuple([throttle_brake,steering])\n",
    "\n",
    "N = 4 # FIXME not hard code\n",
    "F = 6 # FIXME not hard code\n",
    "state_space = Box(low=-np.inf, high=np.inf, shape=(N,F), dtype=np.float32)"
   ]
  },
  {
   "cell_type": "code",
   "execution_count": 6,
   "metadata": {},
   "outputs": [],
   "source": [
    "from tensorflow.keras.layers import Input, Dense, Lambda, Multiply, Reshape, Flatten, Masking, LSTM, Concatenate\n",
    "from tensorflow.keras.models import Model\n",
    "\n"
   ]
  },
  {
   "cell_type": "code",
   "execution_count": 14,
   "metadata": {
    "tags": []
   },
   "outputs": [
    {
     "name": "stdout",
     "output_type": "stream",
     "text": [
      "Model: \"model_1\"\n",
      "__________________________________________________________________________________________________\n",
      "Layer (type)                    Output Shape         Param #     Connected to                     \n",
      "==================================================================================================\n",
      "cav_input (InputLayer)          [(None, 6)]          0                                            \n",
      "__________________________________________________________________________________________________\n",
      "cav_action (InputLayer)         [(None, 3)]          0                                            \n",
      "__________________________________________________________________________________________________\n",
      "concatenate_7 (Concatenate)     (None, 9)            0           cav_input[0][0]                  \n",
      "                                                                 cav_action[0][0]                 \n",
      "__________________________________________________________________________________________________\n",
      "CAV_dynamics_1 (Dense)          (None, 32)           320         concatenate_7[0][0]              \n",
      "__________________________________________________________________________________________________\n",
      "CAV_dynamics_2 (Dense)          (None, 16)           528         CAV_dynamics_1[0][0]             \n",
      "__________________________________________________________________________________________________\n",
      "dense_7 (Dense)                 (None, 6)            102         CAV_dynamics_2[0][0]             \n",
      "==================================================================================================\n",
      "Total params: 950\n",
      "Trainable params: 950\n",
      "Non-trainable params: 0\n",
      "__________________________________________________________________________________________________\n"
     ]
    }
   ],
   "source": [
    "CAV_state_input = Input(name=\"cav_input\",shape=(6,))\n",
    "CAV_action_input = Input(name=\"cav_action\",shape=(3,)) #throttle, brake, steering\n",
    "input_concate = Concatenate(axis=-1)([CAV_state_input,CAV_action_input])\n",
    "x = Dense(32,activation='relu',name=\"CAV_dynamics_1\")(input_concate)\n",
    "x = Dense(16,activation='relu',name=\"CAV_dynamics_2\")(x)\n",
    "out = Dense(6,activation=None)(x)\n",
    "CAV_dynamics = Model(inputs=[CAV_state_input,CAV_action_input], outputs=out)\n",
    "CAV_dynamics.summary()"
   ]
  },
  {
   "cell_type": "code",
   "execution_count": 17,
   "metadata": {
    "tags": []
   },
   "outputs": [
    {
     "name": "stdout",
     "output_type": "stream",
     "text": [
      "Model: \"model_4\"\n",
      "_________________________________________________________________\n",
      "Layer (type)                 Output Shape              Param #   \n",
      "=================================================================\n",
      "hdv_input (InputLayer)       [(None, 6)]               0         \n",
      "_________________________________________________________________\n",
      "HDV_dynamics_1 (Dense)       (None, 32)                224       \n",
      "_________________________________________________________________\n",
      "HDV_dynamics_2 (Dense)       (None, 16)                528       \n",
      "_________________________________________________________________\n",
      "dense_10 (Dense)             (None, 6)                 102       \n",
      "=================================================================\n",
      "Total params: 854\n",
      "Trainable params: 854\n",
      "Non-trainable params: 0\n",
      "_________________________________________________________________\n"
     ]
    }
   ],
   "source": [
    "HDV_state_input = Input(name=\"hdv_input\",shape=(6,))\n",
    "x = Dense(32,activation='relu',name=\"HDV_dynamics_1\")(HDV_state_input)\n",
    "x = Dense(16,activation='relu',name=\"HDV_dynamics_2\")(x)\n",
    "out = Dense(6,activation=None)(x)\n",
    "HDV_dynamics = Model(inputs=HDV_state_input, outputs=out)\n",
    "HDV_dynamics.summary()"
   ]
  },
  {
   "cell_type": "code",
   "execution_count": null,
   "metadata": {},
   "outputs": [],
   "source": []
  },
  {
   "cell_type": "code",
   "execution_count": null,
   "metadata": {},
   "outputs": [],
   "source": []
  },
  {
   "cell_type": "markdown",
   "metadata": {},
   "source": [
    "# Reverse the control commands"
   ]
  },
  {
   "cell_type": "code",
   "execution_count": 7,
   "metadata": {},
   "outputs": [],
   "source": [
    "import glob\n",
    "import pickle"
   ]
  },
  {
   "cell_type": "code",
   "execution_count": 10,
   "metadata": {
    "tags": []
   },
   "outputs": [
    {
     "name": "stdout",
     "output_type": "stream",
     "text": [
      "/Users/jiqiandong/Desktop/OneDrive - purdue.edu/work2/carla_rl\n"
     ]
    }
   ],
   "source": [
    "!pwd"
   ]
  },
  {
   "cell_type": "code",
   "execution_count": 12,
   "metadata": {},
   "outputs": [],
   "source": [
    "with open(\"./control_details/LHDV.p\", 'rb') as f:\n",
    "    commands = pickle.load(f)"
   ]
  },
  {
   "cell_type": "code",
   "execution_count": 16,
   "metadata": {},
   "outputs": [],
   "source": [
    "commands_reversed = []\n",
    "for command in commands:\n",
    "    c = command.copy()\n",
    "    c['steer'] = -command['steer']\n",
    "    commands_reversed.append(c)"
   ]
  },
  {
   "cell_type": "code",
   "execution_count": 17,
   "metadata": {},
   "outputs": [
    {
     "data": {
      "text/plain": [
       "{'throttle': 0.0,\n",
       " 'steer': -0.0,\n",
       " 'brake': 0.0,\n",
       " 'hand_brake': 0,\n",
       " 'reverse': False,\n",
       " 'manual_gear_shift': True,\n",
       " 'gear': 0}"
      ]
     },
     "execution_count": 17,
     "metadata": {},
     "output_type": "execute_result"
    }
   ],
   "source": [
    "commands_reversed[50]"
   ]
  },
  {
   "cell_type": "code",
   "execution_count": 18,
   "metadata": {},
   "outputs": [
    {
     "data": {
      "text/plain": [
       "{'throttle': 0.0,\n",
       " 'steer': 0.0,\n",
       " 'brake': 0.0,\n",
       " 'hand_brake': 0,\n",
       " 'reverse': False,\n",
       " 'manual_gear_shift': True,\n",
       " 'gear': 0}"
      ]
     },
     "execution_count": 18,
     "metadata": {},
     "output_type": "execute_result"
    }
   ],
   "source": [
    "commands[50]"
   ]
  },
  {
   "cell_type": "code",
   "execution_count": 19,
   "metadata": {},
   "outputs": [],
   "source": [
    "import random"
   ]
  },
  {
   "cell_type": "code",
   "execution_count": 31,
   "metadata": {},
   "outputs": [
    {
     "data": {
      "text/plain": [
       "0"
      ]
     },
     "execution_count": 31,
     "metadata": {},
     "output_type": "execute_result"
    }
   ],
   "source": [
    "random.choice([0,1])"
   ]
  },
  {
   "cell_type": "code",
   "execution_count": 32,
   "metadata": {},
   "outputs": [],
   "source": [
    "with open(\"./control_details/LHDV_right.p\", 'wb') as f:\n",
    "    pickle.dump(commands_reversed,f)"
   ]
  },
  {
   "cell_type": "code",
   "execution_count": null,
   "metadata": {},
   "outputs": [],
   "source": []
  },
  {
   "cell_type": "code",
   "execution_count": null,
   "metadata": {},
   "outputs": [],
   "source": []
  },
  {
   "cell_type": "code",
   "execution_count": 4,
   "metadata": {},
   "outputs": [
    {
     "data": {
      "text/plain": [
       "array([[ 2,  4,  6],\n",
       "       [ 8, 10, 12]])"
      ]
     },
     "execution_count": 4,
     "metadata": {},
     "output_type": "execute_result"
    }
   ],
   "source": [
    "b"
   ]
  },
  {
   "cell_type": "code",
   "execution_count": 7,
   "metadata": {},
   "outputs": [
    {
     "data": {
      "text/plain": [
       "array([[1.5, 3. , 4.5],\n",
       "       [6. , 7.5, 9. ]])"
      ]
     },
     "execution_count": 7,
     "metadata": {},
     "output_type": "execute_result"
    }
   ],
   "source": [
    "np.mean([a,b],axis=0)"
   ]
  },
  {
   "cell_type": "code",
   "execution_count": 1,
   "metadata": {},
   "outputs": [],
   "source": [
    "a = {'1':1,'b':2}"
   ]
  },
  {
   "cell_type": "code",
   "execution_count": 3,
   "metadata": {
    "tags": []
   },
   "outputs": [
    {
     "name": "stdout",
     "output_type": "stream",
     "text": [
      "1 1\n",
      "b 2\n"
     ]
    }
   ],
   "source": [
    "for key,val in a.items():\n",
    "    print(key,val)"
   ]
  },
  {
   "cell_type": "code",
   "execution_count": 6,
   "metadata": {
    "tags": []
   },
   "outputs": [
    {
     "name": "stdout",
     "output_type": "stream",
     "text": [
      "1\n",
      "2\n"
     ]
    }
   ],
   "source": [
    "for item in a:\n",
    "    print(a[item])"
   ]
  },
  {
   "cell_type": "code",
   "execution_count": 6,
   "metadata": {},
   "outputs": [],
   "source": [
    "a = [[[1,2,3],[4,5,6]],[[1,2,3],[4,5,6]]]"
   ]
  },
  {
   "cell_type": "code",
   "execution_count": 7,
   "metadata": {},
   "outputs": [
    {
     "data": {
      "text/plain": [
       "[[[1, 2, 3], [4, 5, 6]], [[1, 2, 3], [4, 5, 6]]]"
      ]
     },
     "execution_count": 7,
     "metadata": {},
     "output_type": "execute_result"
    }
   ],
   "source": [
    "a"
   ]
  },
  {
   "cell_type": "code",
   "execution_count": 10,
   "metadata": {},
   "outputs": [
    {
     "data": {
      "text/plain": [
       "array([[1, 2, 3],\n",
       "       [4, 5, 6]])"
      ]
     },
     "execution_count": 10,
     "metadata": {},
     "output_type": "execute_result"
    }
   ],
   "source": [
    "import numpy as np\n",
    "np.array(a)[-1,:,:]"
   ]
  },
  {
   "cell_type": "code",
   "execution_count": null,
   "metadata": {},
   "outputs": [],
   "source": []
  },
  {
   "cell_type": "code",
   "execution_count": null,
   "metadata": {},
   "outputs": [],
   "source": []
  },
  {
   "cell_type": "markdown",
   "metadata": {},
   "source": [
    "## Test trajectory prediction module"
   ]
  },
  {
   "cell_type": "code",
   "execution_count": 2,
   "metadata": {},
   "outputs": [],
   "source": [
    "import pickle\n",
    "with open('./experience_data/Town03_data_pickle.pickle','rb') as f:\n",
    "    d = pickle.load(f)"
   ]
  },
  {
   "cell_type": "code",
   "execution_count": 3,
   "metadata": {},
   "outputs": [],
   "source": [
    "import torch\n",
    "from collections import defaultdict"
   ]
  },
  {
   "cell_type": "code",
   "execution_count": 4,
   "metadata": {},
   "outputs": [
    {
     "data": {
      "text/plain": [
       "15506"
      ]
     },
     "execution_count": 4,
     "metadata": {},
     "output_type": "execute_result"
    }
   ],
   "source": [
    "len(d)"
   ]
  },
  {
   "cell_type": "code",
   "execution_count": 5,
   "metadata": {},
   "outputs": [
    {
     "data": {
      "text/plain": [
       "torch.Size([3, 6])"
      ]
     },
     "execution_count": 5,
     "metadata": {},
     "output_type": "execute_result"
    }
   ],
   "source": [
    "next(d.random_iterator(3,return_sequence=False,return_tensor=True))[2]['CAV'].shape"
   ]
  },
  {
   "cell_type": "code",
   "execution_count": null,
   "metadata": {},
   "outputs": [],
   "source": []
  },
  {
   "cell_type": "code",
   "execution_count": 7,
   "metadata": {},
   "outputs": [
    {
     "name": "stdout",
     "output_type": "stream",
     "text": [
      "successfully loaded the linreg model\n"
     ]
    }
   ],
   "source": [
    "\n",
    "### load the model\n",
    "from traj_pred_models import build_model\n",
    "import matplotlib.pyplot as plt \n",
    "\n",
    "return_sequence = False\n",
    "model_type = 'linreg'\n",
    "\n",
    "seq_flag = 'seq' if return_sequence else 'nonseq'\n",
    "cav_model_file = './models/Town03/{}_{}_{}.pt'.format('cav', model_type, seq_flag)\n",
    "hdv_model_file = './models/Town03/{}_{}_{}.pt'.format('hdv', model_type, seq_flag)\n",
    "\n",
    "cav_predictor, hdv_predictor, _, _ = build_model(model_type, return_sequence)\n",
    "\n",
    "try:\n",
    "    cav_predictor.load_state_dict(torch.load(cav_model_file))\n",
    "    hdv_predictor.load_state_dict(torch.load(hdv_model_file))\n",
    "    print(\"successfully loaded the %s model\"%model_type)\n",
    "except:\n",
    "    print(\"no trained model found\")"
   ]
  },
  {
   "cell_type": "markdown",
   "metadata": {},
   "source": [
    "### CAV "
   ]
  },
  {
   "cell_type": "code",
   "execution_count": 91,
   "metadata": {},
   "outputs": [],
   "source": [
    "state_batch, action_batch, next_state_batch = next(d.random_iterator(5,return_sequence=False,return_tensor=True))\n",
    "\n",
    "cav_X = torch.cat([state_batch['CAV'],state_batch['current_control']],dim=-1)\n",
    "outputs = cav_predictor.forward(cav_X).detach().numpy()"
   ]
  },
  {
   "cell_type": "code",
   "execution_count": 95,
   "metadata": {},
   "outputs": [
    {
     "data": {
      "image/png": "[encoded data removed]",
      "text/plain": [
       "<Figure size 432x288 with 1 Axes>"
      ]
     },
     "metadata": {
      "needs_background": "light"
     },
     "output_type": "display_data"
    }
   ],
   "source": [
    "for i, (state,next_state) in enumerate(zip(state_batch['CAV'],next_state_batch['CAV'])):\n",
    "    x = state[:,0]\n",
    "    y = state[:,1]\n",
    "\n",
    "    x_ = next_state[0]\n",
    "    y_ = next_state[1]\n",
    "\n",
    "    ax = plt.plot(x,y,label=str(i))\n",
    "    plt.scatter(x_,y_,label='label_'+str(i),c=ax[0].get_color(),alpha=0.7)\n",
    "    plt.scatter(outputs[i,0],outputs[i,1],label='predicted_'+str(i),marker='*',c=ax[0].get_color())\n",
    "plt.title(\"CAV trajectory prediction\")\n",
    "# plt.legend()\n",
    "# plt.show()\n",
    "plt.savefig('./figures/cav_traj_pred.png',dpi=300)"
   ]
  },
  {
   "cell_type": "markdown",
   "metadata": {},
   "source": [
    "### HDV"
   ]
  },
  {
   "cell_type": "code",
   "execution_count": null,
   "metadata": {},
   "outputs": [],
   "source": []
  },
  {
   "cell_type": "code",
   "execution_count": 84,
   "metadata": {},
   "outputs": [],
   "source": [
    "state_batch, action_batch, next_state_batch = next(d.random_iterator(2,return_sequence=False,return_tensor=True))\n",
    "\n",
    "hdv_X = []\n",
    "hdv_Y = []\n",
    "for key in state_batch:\n",
    "    if key!='CAV'and key!='current_control':\n",
    "        hdv_X.append(state_batch[key])\n",
    "        hdv_Y.append(next_state_batch[key])\n",
    "hdv_X = torch.cat(hdv_X, dim=0) #(batch_size*num_vehicles, window_size, feature_size)\n",
    "hdv_Y = torch.cat(hdv_Y, dim=0)\n",
    "                    \n",
    "outputs = hdv_predictor.forward(hdv_X).detach().numpy()"
   ]
  },
  {
   "cell_type": "code",
   "execution_count": 85,
   "metadata": {},
   "outputs": [
    {
     "data": {
      "text/plain": [
       "(torch.Size([6, 5, 6]), torch.Size([6, 6]), (6, 6))"
      ]
     },
     "execution_count": 85,
     "metadata": {},
     "output_type": "execute_result"
    }
   ],
   "source": [
    "hdv_X.shape,hdv_Y.shape,outputs.shape"
   ]
  },
  {
   "cell_type": "code",
   "execution_count": 87,
   "metadata": {
    "scrolled": true
   },
   "outputs": [
    {
     "data": {
      "image/png": "[encoded data removed]",
      "text/plain": [
       "<Figure size 432x288 with 1 Axes>"
      ]
     },
     "metadata": {
      "needs_background": "light"
     },
     "output_type": "display_data"
    }
   ],
   "source": [
    "i = 0\n",
    "for hdv_x, hdv_y,hdv_pred in zip(hdv_X,hdv_Y,outputs):\n",
    "    i += 1\n",
    "    x = hdv_x[:,0]\n",
    "    y = hdv_x[:,1]\n",
    "    x_ = hdv_y[0]\n",
    "    y_ = hdv_y[1]\n",
    "    ax = plt.plot(x,y,label=str(i))\n",
    "    plt.scatter(x_,y_,label='label_'+str(i),c=ax[0].get_color())\n",
    "    plt.scatter(hdv_pred[0],hdv_pred[1],label='predicted_'+str(i),marker='*',c=ax[0].get_color())\n",
    "\n",
    "# plt.legend()\n",
    "plt.title(\"HDV trajectory prediction\")\n",
    "# plt.show()\n",
    "plt.savefig('./figures/hdv_traj_pred.png',dpi=300)"
   ]
  },
  {
   "cell_type": "code",
   "execution_count": 22,
   "metadata": {},
   "outputs": [
    {
     "data": {
      "text/plain": [
       "torch.Size([5, 5, 6])"
      ]
     },
     "execution_count": 22,
     "metadata": {},
     "output_type": "execute_result"
    }
   ],
   "source": []
  },
  {
   "cell_type": "code",
   "execution_count": null,
   "metadata": {},
   "outputs": [],
   "source": [
    "\n",
    "\n",
    "for i, (state,next_state) in enumerate(zip(state_batch['CAV'],next_state_batch['CAV'])):\n",
    "    x = state[:,0]\n",
    "    y = state[:,1]\n",
    "\n",
    "    x_ = next_state[0]\n",
    "    y_ = next_state[1]\n",
    "\n",
    "    plt.plot(x,y,label=str(i))\n",
    "    plt.scatter(x_,y_,label='label_'+str(i))\n",
    "    plt.scatter(outputs[i,0],outputs[i,1],label='predicted_'+str(i),marker='*')\n",
    "\n",
    "plt.legend()\n",
    "plt.show()"
   ]
  },
  {
   "cell_type": "code",
   "execution_count": null,
   "metadata": {},
   "outputs": [],
   "source": []
  },
  {
   "cell_type": "markdown",
   "metadata": {},
   "source": [
    "## Load the model"
   ]
  },
  {
   "cell_type": "code",
   "execution_count": 65,
   "metadata": {
    "tags": []
   },
   "outputs": [
    {
     "name": "stdout",
     "output_type": "stream",
     "text": [
      "successfully loaded the linreg model\n"
     ]
    }
   ],
   "source": [
    "### load the model\n",
    "from traj_pred_models import build_model\n",
    "\n",
    "return_sequence = False\n",
    "model_type = 'linreg'\n",
    "\n",
    "seq_flag = 'seq' if return_sequence else 'nonseq'\n",
    "cav_model_file = './models/{}_{}_{}.pt'.format('cav', model_type, seq_flag)\n",
    "hdv_model_file = './models/{}_{}_{}.pt'.format('hdv', model_type, seq_flag)\n",
    "\n",
    "cav_predictor, hdv_predictor, _, _ = build_model(model_type, return_sequence)\n",
    "\n",
    "try:\n",
    "    cav_predictor.load_state_dict(torch.load(cav_model_file))\n",
    "    hdv_predictor.load_state_dict(torch.load(hdv_model_file))\n",
    "    print(\"successfully loaded the %s model\"%model_type)\n",
    "except:\n",
    "    print(\"no trained model found\")"
   ]
  },
  {
   "cell_type": "code",
   "execution_count": 66,
   "metadata": {},
   "outputs": [
    {
     "ename": "NameError",
     "evalue": "name 'current_state' is not defined",
     "output_type": "error",
     "traceback": [
      "\u001b[0;31m---------------------------------------------------------------------------\u001b[0m",
      "\u001b[0;31mNameError\u001b[0m                                 Traceback (most recent call last)",
      "\u001b[0;32m<ipython-input-66-cb7a40dcdbcf>\u001b[0m in \u001b[0;36m<module>\u001b[0;34m\u001b[0m\n\u001b[0;32m----> 1\u001b[0;31m \u001b[0mcav_state\u001b[0m \u001b[0;34m=\u001b[0m \u001b[0mtorch\u001b[0m\u001b[0;34m.\u001b[0m\u001b[0mtensor\u001b[0m\u001b[0;34m(\u001b[0m\u001b[0mcurrent_state\u001b[0m\u001b[0;34m[\u001b[0m\u001b[0;34m'CAV'\u001b[0m\u001b[0;34m]\u001b[0m\u001b[0;34m)\u001b[0m\u001b[0;34m.\u001b[0m\u001b[0mfloat\u001b[0m\u001b[0;34m(\u001b[0m\u001b[0;34m)\u001b[0m\u001b[0;34m\u001b[0m\u001b[0;34m\u001b[0m\u001b[0m\n\u001b[0m\u001b[1;32m      2\u001b[0m \u001b[0mcav_control\u001b[0m \u001b[0;34m=\u001b[0m \u001b[0mtorch\u001b[0m\u001b[0;34m.\u001b[0m\u001b[0mtensor\u001b[0m\u001b[0;34m(\u001b[0m\u001b[0mcurrent_state\u001b[0m\u001b[0;34m[\u001b[0m\u001b[0;34m'current_control'\u001b[0m\u001b[0;34m]\u001b[0m\u001b[0;34m)\u001b[0m\u001b[0;34m.\u001b[0m\u001b[0mfloat\u001b[0m\u001b[0;34m(\u001b[0m\u001b[0;34m)\u001b[0m\u001b[0;34m\u001b[0m\u001b[0;34m\u001b[0m\u001b[0m\n\u001b[1;32m      3\u001b[0m \u001b[0mcav_X\u001b[0m \u001b[0;34m=\u001b[0m \u001b[0mtorch\u001b[0m\u001b[0;34m.\u001b[0m\u001b[0mcat\u001b[0m\u001b[0;34m(\u001b[0m\u001b[0;34m[\u001b[0m\u001b[0mcav_state\u001b[0m\u001b[0;34m,\u001b[0m\u001b[0mcav_control\u001b[0m\u001b[0;34m]\u001b[0m\u001b[0;34m,\u001b[0m\u001b[0mdim\u001b[0m\u001b[0;34m=\u001b[0m\u001b[0;34m-\u001b[0m\u001b[0;36m1\u001b[0m\u001b[0;34m)\u001b[0m\u001b[0;34m\u001b[0m\u001b[0;34m\u001b[0m\u001b[0m\n\u001b[1;32m      4\u001b[0m \u001b[0;34m\u001b[0m\u001b[0m\n\u001b[1;32m      5\u001b[0m \u001b[0mcav_X\u001b[0m \u001b[0;34m=\u001b[0m \u001b[0mtorch\u001b[0m\u001b[0;34m.\u001b[0m\u001b[0mstack\u001b[0m\u001b[0;34m(\u001b[0m\u001b[0;34m[\u001b[0m\u001b[0mcav_X\u001b[0m\u001b[0;34m]\u001b[0m\u001b[0;34m*\u001b[0m\u001b[0;36m10\u001b[0m\u001b[0;34m)\u001b[0m\u001b[0;34m\u001b[0m\u001b[0;34m\u001b[0m\u001b[0m\n",
      "\u001b[0;31mNameError\u001b[0m: name 'current_state' is not defined"
     ]
    }
   ],
   "source": [
    "cav_state = torch.tensor(current_state['CAV']).float()\n",
    "cav_control = torch.tensor(current_state['current_control']).float()\n",
    "cav_X = torch.cat([cav_state,cav_control],dim=-1)   \n",
    "\n",
    "cav_X = torch.stack([cav_X]*10)\n",
    "cav_X.shape"
   ]
  },
  {
   "cell_type": "code",
   "execution_count": 16,
   "metadata": {},
   "outputs": [
    {
     "data": {
      "text/plain": [
       "torch.Size([3, 5, 6])"
      ]
     },
     "execution_count": 16,
     "metadata": {},
     "output_type": "execute_result"
    }
   ],
   "source": [
    "hdv_X = torch.tensor([current_state[key] for key in current_state if key!='CAV'and key!='current_control']).float()\n",
    "hdv_X.shape"
   ]
  },
  {
   "cell_type": "code",
   "execution_count": 17,
   "metadata": {},
   "outputs": [
    {
     "data": {
      "text/plain": [
       "LinearRegression(\n",
       "  (output_layer): Linear(in_features=30, out_features=6, bias=True)\n",
       ")"
      ]
     },
     "execution_count": 17,
     "metadata": {},
     "output_type": "execute_result"
    }
   ],
   "source": [
    "cav_predictor.eval()\n",
    "hdv_predictor.eval()"
   ]
  },
  {
   "cell_type": "code",
   "execution_count": 18,
   "metadata": {},
   "outputs": [],
   "source": [
    "cav_output = cav_predictor.forward(cav_X).detach()\n",
    "hdv_output = hdv_predictor.forward(hdv_X).detach()"
   ]
  },
  {
   "cell_type": "code",
   "execution_count": 19,
   "metadata": {},
   "outputs": [
    {
     "data": {
      "text/plain": [
       "(torch.Size([10, 6]), torch.Size([3, 6]))"
      ]
     },
     "execution_count": 19,
     "metadata": {},
     "output_type": "execute_result"
    }
   ],
   "source": [
    "cav_output.shape, hdv_output.shape"
   ]
  },
  {
   "cell_type": "code",
   "execution_count": 20,
   "metadata": {},
   "outputs": [
    {
     "data": {
      "text/plain": [
       "tensor([[1.1026e+02, 8.4799e+00, 1.8548e+01, 2.9652e-01, 9.4593e-02, 8.4095e-01],\n",
       "        [1.1026e+02, 8.4799e+00, 1.8548e+01, 2.9652e-01, 9.4593e-02, 8.4095e-01],\n",
       "        [1.1026e+02, 8.4799e+00, 1.8548e+01, 2.9652e-01, 9.4593e-02, 8.4095e-01],\n",
       "        [1.1026e+02, 8.4799e+00, 1.8548e+01, 2.9652e-01, 9.4593e-02, 8.4095e-01],\n",
       "        [1.1026e+02, 8.4799e+00, 1.8548e+01, 2.9652e-01, 9.4593e-02, 8.4095e-01],\n",
       "        [1.1026e+02, 8.4799e+00, 1.8548e+01, 2.9652e-01, 9.4593e-02, 8.4095e-01],\n",
       "        [1.1026e+02, 8.4799e+00, 1.8548e+01, 2.9652e-01, 9.4593e-02, 8.4095e-01],\n",
       "        [1.1026e+02, 8.4799e+00, 1.8548e+01, 2.9652e-01, 9.4593e-02, 8.4095e-01],\n",
       "        [1.1026e+02, 8.4799e+00, 1.8548e+01, 2.9652e-01, 9.4593e-02, 8.4095e-01],\n",
       "        [1.1026e+02, 8.4799e+00, 1.8548e+01, 2.9652e-01, 9.4593e-02, 8.4095e-01]])"
      ]
     },
     "execution_count": 20,
     "metadata": {},
     "output_type": "execute_result"
    }
   ],
   "source": [
    "cav_output"
   ]
  },
  {
   "cell_type": "code",
   "execution_count": 21,
   "metadata": {},
   "outputs": [
    {
     "data": {
      "text/plain": [
       "tensor([[ 1.1396e+02,  1.1917e+01,  1.8350e+01,  8.7175e-02, -5.9909e-01,\n",
       "         -4.4729e-01],\n",
       "        [ 1.2388e+02,  4.9447e+00,  1.8370e+01,  1.2355e-01, -5.6857e-01,\n",
       "          5.3567e-01],\n",
       "        [ 1.0363e+02,  8.4830e+00,  2.0129e+01,  1.6795e-01, -5.4159e-01,\n",
       "          4.6033e-01]])"
      ]
     },
     "execution_count": 21,
     "metadata": {},
     "output_type": "execute_result"
    }
   ],
   "source": [
    "hdv_output"
   ]
  },
  {
   "cell_type": "code",
   "execution_count": 29,
   "metadata": {},
   "outputs": [],
   "source": [
    "from sklearn.metrics import pairwise_distances\n",
    "\n",
    "dist_matrix = pairwise_distances(cav_output.numpy()[:,:2],hdv_output.numpy()[:,:2])"
   ]
  },
  {
   "cell_type": "code",
   "execution_count": 30,
   "metadata": {},
   "outputs": [
    {
     "data": {
      "text/plain": [
       "array([[ 5.0497937, 14.074173 ,  6.627503 ],\n",
       "       [ 5.0497937, 14.074173 ,  6.627503 ],\n",
       "       [ 5.0497937, 14.074173 ,  6.627503 ],\n",
       "       [ 5.0497937, 14.074173 ,  6.627503 ],\n",
       "       [ 5.0497937, 14.074173 ,  6.627503 ],\n",
       "       [ 5.0497937, 14.074173 ,  6.627503 ],\n",
       "       [ 5.0497937, 14.074173 ,  6.627503 ],\n",
       "       [ 5.0497937, 14.074173 ,  6.627503 ],\n",
       "       [ 5.0497937, 14.074173 ,  6.627503 ],\n",
       "       [ 5.0497937, 14.074173 ,  6.627503 ]], dtype=float32)"
      ]
     },
     "execution_count": 30,
     "metadata": {},
     "output_type": "execute_result"
    }
   ],
   "source": [
    "dist_matrix"
   ]
  },
  {
   "cell_type": "code",
   "execution_count": 33,
   "metadata": {},
   "outputs": [
    {
     "data": {
      "text/plain": [
       "array([1, 1, 1, 1, 1, 1, 1, 1, 1, 1])"
      ]
     },
     "execution_count": 33,
     "metadata": {},
     "output_type": "execute_result"
    }
   ],
   "source": [
    "threshold = 6\n",
    "cost = (dist_matrix<threshold).sum(axis=1)\n",
    "cost"
   ]
  },
  {
   "cell_type": "code",
   "execution_count": 28,
   "metadata": {},
   "outputs": [
    {
     "data": {
      "text/plain": [
       "14.07131973341519"
      ]
     },
     "execution_count": 28,
     "metadata": {},
     "output_type": "execute_result"
    }
   ],
   "source": [
    "import numpy as np\n",
    "np.sqrt((1.1026e+02 - 1.2388e+02)**2 + (8.4799e+00-4.9447e+00)**2)"
   ]
  },
  {
   "cell_type": "code",
   "execution_count": 38,
   "metadata": {
    "tags": []
   },
   "outputs": [
    {
     "data": {
      "text/plain": [
       "torch.Size([3, 5, 6])"
      ]
     },
     "execution_count": 38,
     "metadata": {},
     "output_type": "execute_result"
    }
   ],
   "source": [
    "hdv_X_new = torch.stack([torch.cat([val[1:,:],new_val.unsqueeze(0)],dim=0) for val,new_val in zip(hdv_X,hdv_output)]).float()\n",
    "hdv_X_new.shape\n",
    "# hdv_X_new"
   ]
  },
  {
   "cell_type": "code",
   "execution_count": 74,
   "metadata": {},
   "outputs": [
    {
     "data": {
      "text/plain": [
       "torch.Size([10, 3])"
      ]
     },
     "execution_count": 74,
     "metadata": {},
     "output_type": "execute_result"
    }
   ],
   "source": [
    "current_controls = torch.stack([torch.tensor(current_control)]*10)\n",
    "current_controls.shape"
   ]
  },
  {
   "cell_type": "code",
   "execution_count": 77,
   "metadata": {},
   "outputs": [
    {
     "data": {
      "text/plain": [
       "torch.Size([10, 1, 9])"
      ]
     },
     "execution_count": 77,
     "metadata": {},
     "output_type": "execute_result"
    }
   ],
   "source": [
    "cav_new_state = torch.cat([cav_output,current_controls],dim=1).unsqueeze(1)\n",
    "cav_new_state.shape"
   ]
  },
  {
   "cell_type": "code",
   "execution_count": 78,
   "metadata": {},
   "outputs": [
    {
     "data": {
      "text/plain": [
       "torch.Size([10, 5, 9])"
      ]
     },
     "execution_count": 78,
     "metadata": {},
     "output_type": "execute_result"
    }
   ],
   "source": [
    "cav_X_new = torch.cat([cav_X[:,1:,:],cav_new_state],dim=1)\n",
    "cav_X_new.shape"
   ]
  },
  {
   "cell_type": "code",
   "execution_count": 61,
   "metadata": {},
   "outputs": [
    {
     "data": {
      "text/plain": [
       "tensor([[[1.1026e+02, 8.4799e+00, 1.8548e+01, 2.9652e-01, 9.4593e-02,\n",
       "          8.4095e-01, 0.0000e+00, 0.0000e+00, 0.0000e+00]]])"
      ]
     },
     "execution_count": 61,
     "metadata": {},
     "output_type": "execute_result"
    }
   ],
   "source": [
    "new_state"
   ]
  },
  {
   "cell_type": "code",
   "execution_count": 62,
   "metadata": {},
   "outputs": [
    {
     "data": {
      "text/plain": [
       "tensor([[[ 1.0713e+02,  8.4289e+00,  1.8748e+01,  2.9832e-01, -3.4691e-01,\n",
       "          -5.5498e-03,  0.0000e+00,  0.0000e+00,  0.0000e+00],\n",
       "         [ 1.0807e+02,  8.4438e+00,  1.8731e+01,  2.9805e-01, -3.4653e-01,\n",
       "          -5.5295e-03,  0.0000e+00,  0.0000e+00,  0.0000e+00],\n",
       "         [ 1.0900e+02,  8.4587e+00,  1.8714e+01,  2.9777e-01, -3.4607e-01,\n",
       "          -5.5146e-03,  0.0000e+00,  0.0000e+00,  0.0000e+00],\n",
       "         [ 1.0994e+02,  8.4736e+00,  1.8697e+01,  2.9750e-01, -3.4576e-01,\n",
       "          -5.5015e-03,  0.0000e+00,  0.0000e+00,  0.0000e+00],\n",
       "         [ 1.1026e+02,  8.4799e+00,  1.8548e+01,  2.9652e-01,  9.4593e-02,\n",
       "           8.4095e-01,  0.0000e+00,  0.0000e+00,  0.0000e+00]]])"
      ]
     },
     "execution_count": 62,
     "metadata": {},
     "output_type": "execute_result"
    }
   ],
   "source": [
    "cav_X_new"
   ]
  },
  {
   "cell_type": "code",
   "execution_count": 63,
   "metadata": {},
   "outputs": [
    {
     "data": {
      "text/plain": [
       "tensor([[[ 1.0619e+02,  8.4140e+00,  1.8766e+01,  2.9860e-01, -3.4733e-01,\n",
       "          -5.5754e-03,  0.0000e+00,  0.0000e+00,  0.0000e+00],\n",
       "         [ 1.0713e+02,  8.4289e+00,  1.8748e+01,  2.9832e-01, -3.4691e-01,\n",
       "          -5.5498e-03,  0.0000e+00,  0.0000e+00,  0.0000e+00],\n",
       "         [ 1.0807e+02,  8.4438e+00,  1.8731e+01,  2.9805e-01, -3.4653e-01,\n",
       "          -5.5295e-03,  0.0000e+00,  0.0000e+00,  0.0000e+00],\n",
       "         [ 1.0900e+02,  8.4587e+00,  1.8714e+01,  2.9777e-01, -3.4607e-01,\n",
       "          -5.5146e-03,  0.0000e+00,  0.0000e+00,  0.0000e+00],\n",
       "         [ 1.0994e+02,  8.4736e+00,  1.8697e+01,  2.9750e-01, -3.4576e-01,\n",
       "          -5.5015e-03,  0.0000e+00,  0.0000e+00,  0.0000e+00]]])"
      ]
     },
     "execution_count": 63,
     "metadata": {},
     "output_type": "execute_result"
    }
   ],
   "source": [
    "cav_X"
   ]
  },
  {
   "cell_type": "code",
   "execution_count": 64,
   "metadata": {},
   "outputs": [
    {
     "data": {
      "text/plain": [
       "tensor([[1.1026e+02, 8.4799e+00, 1.8548e+01, 2.9652e-01, 9.4593e-02, 8.4095e-01]])"
      ]
     },
     "execution_count": 64,
     "metadata": {},
     "output_type": "execute_result"
    }
   ],
   "source": [
    "cav_output"
   ]
  },
  {
   "cell_type": "code",
   "execution_count": 1,
   "metadata": {},
   "outputs": [
    {
     "ename": "NameError",
     "evalue": "name 'cav_output' is not defined",
     "output_type": "error",
     "traceback": [
      "\u001b[0;31m---------------------------------------------------------------------------\u001b[0m",
      "\u001b[0;31mNameError\u001b[0m                                 Traceback (most recent call last)",
      "\u001b[0;32m<ipython-input-1-b33091d6e36e>\u001b[0m in \u001b[0;36m<module>\u001b[0;34m\u001b[0m\n\u001b[0;32m----> 1\u001b[0;31m \u001b[0mcav_output\u001b[0m\u001b[0;34m\u001b[0m\u001b[0;34m\u001b[0m\u001b[0m\n\u001b[0m",
      "\u001b[0;31mNameError\u001b[0m: name 'cav_output' is not defined"
     ]
    }
   ],
   "source": [
    "cav_output"
   ]
  },
  {
   "cell_type": "code",
   "execution_count": 38,
   "metadata": {},
   "outputs": [
    {
     "data": {
      "text/plain": [
       "dict_keys(['CAV', 'LHDV', 'FHDV', 'BHDV', 'current_control'])"
      ]
     },
     "execution_count": 38,
     "metadata": {},
     "output_type": "execute_result"
    }
   ],
   "source": [
    "d._state_history.keys()"
   ]
  },
  {
   "cell_type": "markdown",
   "metadata": {},
   "source": [
    "# "
   ]
  },
  {
   "cell_type": "markdown",
   "metadata": {},
   "source": [
    "## Test the ttc computing"
   ]
  },
  {
   "cell_type": "code",
   "execution_count": 1,
   "metadata": {},
   "outputs": [],
   "source": [
    "import numpy as np\n"
   ]
  },
  {
   "cell_type": "code",
   "execution_count": 2,
   "metadata": {},
   "outputs": [
    {
     "data": {
      "text/plain": [
       "array([[1, 1, 1, 1, 1, 1],\n",
       "       [2, 2, 2, 2, 2, 2],\n",
       "       [3, 3, 3, 3, 3, 3]])"
      ]
     },
     "execution_count": 2,
     "metadata": {},
     "output_type": "execute_result"
    }
   ],
   "source": [
    "cav_output = np.repeat(np.array([1,2,3]).reshape(-1,1),repeats=6,axis=1)\n",
    "cav_output"
   ]
  },
  {
   "cell_type": "code",
   "execution_count": 3,
   "metadata": {},
   "outputs": [
    {
     "data": {
      "text/plain": [
       "array([[10, 10, 10, 10, 10, 10],\n",
       "       [20, 20, 20, 20, 20, 20],\n",
       "       [30, 30, 30, 30, 30, 30],\n",
       "       [40, 40, 40, 40, 40, 40]])"
      ]
     },
     "execution_count": 3,
     "metadata": {},
     "output_type": "execute_result"
    }
   ],
   "source": [
    "hdv_output = np.repeat(np.array([10,20,30,40]).reshape(-1,1),repeats=6,axis=1)\n",
    "hdv_output"
   ]
  },
  {
   "cell_type": "code",
   "execution_count": 4,
   "metadata": {},
   "outputs": [
    {
     "data": {
      "text/plain": [
       "array([[[ -9,  -9,  -9,  -9,  -9,  -9],\n",
       "        [-19, -19, -19, -19, -19, -19],\n",
       "        [-29, -29, -29, -29, -29, -29],\n",
       "        [-39, -39, -39, -39, -39, -39]],\n",
       "\n",
       "       [[ -8,  -8,  -8,  -8,  -8,  -8],\n",
       "        [-18, -18, -18, -18, -18, -18],\n",
       "        [-28, -28, -28, -28, -28, -28],\n",
       "        [-38, -38, -38, -38, -38, -38]],\n",
       "\n",
       "       [[ -7,  -7,  -7,  -7,  -7,  -7],\n",
       "        [-17, -17, -17, -17, -17, -17],\n",
       "        [-27, -27, -27, -27, -27, -27],\n",
       "        [-37, -37, -37, -37, -37, -37]]])"
      ]
     },
     "execution_count": 4,
     "metadata": {},
     "output_type": "execute_result"
    }
   ],
   "source": [
    "vecs = np.array([cav[:] - hdv_output for cav in cav_output])\n",
    "vecs.shape # num_traj, num_hdv, vec\n",
    "vecs"
   ]
  },
  {
   "cell_type": "code",
   "execution_count": 5,
   "metadata": {},
   "outputs": [],
   "source": [
    "import torch"
   ]
  },
  {
   "cell_type": "code",
   "execution_count": null,
   "metadata": {},
   "outputs": [],
   "source": []
  },
  {
   "cell_type": "code",
   "execution_count": 6,
   "metadata": {},
   "outputs": [
    {
     "data": {
      "text/plain": [
       "(torch.Size([4, 6]), torch.Size([3, 6]))"
      ]
     },
     "execution_count": 6,
     "metadata": {},
     "output_type": "execute_result"
    }
   ],
   "source": [
    "hdv_output = torch.tensor(hdv_output).float().detach()\n",
    "cav_output = torch.tensor(cav_output).float().detach()\n",
    "hdv_output.shape, cav_output.shape"
   ]
  },
  {
   "cell_type": "code",
   "execution_count": 10,
   "metadata": {},
   "outputs": [
    {
     "data": {
      "text/plain": [
       "tensor([[[ -9.,  -9.,  -9.,  -9.],\n",
       "         [-19., -19., -19., -19.],\n",
       "         [-29., -29., -29., -29.],\n",
       "         [-39., -39., -39., -39.]],\n",
       "\n",
       "        [[ -8.,  -8.,  -8.,  -8.],\n",
       "         [-18., -18., -18., -18.],\n",
       "         [-28., -28., -28., -28.],\n",
       "         [-38., -38., -38., -38.]],\n",
       "\n",
       "        [[ -7.,  -7.,  -7.,  -7.],\n",
       "         [-17., -17., -17., -17.],\n",
       "         [-27., -27., -27., -27.],\n",
       "         [-37., -37., -37., -37.]]])"
      ]
     },
     "execution_count": 10,
     "metadata": {},
     "output_type": "execute_result"
    }
   ],
   "source": [
    "# n_traj, n_hdv,_ = diff.shape\n",
    "# diff"
   ]
  },
  {
   "cell_type": "code",
   "execution_count": 4,
   "metadata": {},
   "outputs": [
    {
     "ename": "NameError",
     "evalue": "name 'n_traj' is not defined",
     "output_type": "error",
     "traceback": [
      "\u001b[0;31m---------------------------------------------------------------------------\u001b[0m",
      "\u001b[0;31mNameError\u001b[0m                                 Traceback (most recent call last)",
      "\u001b[0;32m<ipython-input-4-80d5725149cd>\u001b[0m in \u001b[0;36m<module>\u001b[0;34m\u001b[0m\n\u001b[1;32m     16\u001b[0m \u001b[0mtoy_hdv_output\u001b[0m \u001b[0;34m=\u001b[0m \u001b[0mtorch\u001b[0m\u001b[0;34m.\u001b[0m\u001b[0mtensor\u001b[0m\u001b[0;34m(\u001b[0m\u001b[0mnp\u001b[0m\u001b[0;34m.\u001b[0m\u001b[0mrepeat\u001b[0m\u001b[0;34m(\u001b[0m\u001b[0mnp\u001b[0m\u001b[0;34m.\u001b[0m\u001b[0marray\u001b[0m\u001b[0;34m(\u001b[0m\u001b[0;34m[\u001b[0m\u001b[0;36m10\u001b[0m\u001b[0;34m,\u001b[0m\u001b[0;36m20\u001b[0m\u001b[0;34m,\u001b[0m\u001b[0;36m30\u001b[0m\u001b[0;34m,\u001b[0m\u001b[0;36m40\u001b[0m\u001b[0;34m]\u001b[0m\u001b[0;34m)\u001b[0m\u001b[0;34m.\u001b[0m\u001b[0mreshape\u001b[0m\u001b[0;34m(\u001b[0m\u001b[0;34m-\u001b[0m\u001b[0;36m1\u001b[0m\u001b[0;34m,\u001b[0m\u001b[0;36m1\u001b[0m\u001b[0;34m)\u001b[0m\u001b[0;34m,\u001b[0m\u001b[0mrepeats\u001b[0m\u001b[0;34m=\u001b[0m\u001b[0;36m6\u001b[0m\u001b[0;34m,\u001b[0m\u001b[0maxis\u001b[0m\u001b[0;34m=\u001b[0m\u001b[0;36m1\u001b[0m\u001b[0;34m)\u001b[0m\u001b[0;34m,\u001b[0m\u001b[0mrequires_grad\u001b[0m\u001b[0;34m=\u001b[0m\u001b[0;32mFalse\u001b[0m\u001b[0;34m)\u001b[0m\u001b[0;34m.\u001b[0m\u001b[0mfloat\u001b[0m\u001b[0;34m(\u001b[0m\u001b[0;34m)\u001b[0m\u001b[0;34m\u001b[0m\u001b[0;34m\u001b[0m\u001b[0m\n\u001b[1;32m     17\u001b[0m \u001b[0;34m\u001b[0m\u001b[0m\n\u001b[0;32m---> 18\u001b[0;31m \u001b[0mTTC_batch_computing\u001b[0m\u001b[0;34m(\u001b[0m\u001b[0mtoy_cav_output\u001b[0m\u001b[0;34m,\u001b[0m\u001b[0mtoy_hdv_output\u001b[0m\u001b[0;34m,\u001b[0m\u001b[0msafety_distance\u001b[0m\u001b[0;34m=\u001b[0m\u001b[0;36m0\u001b[0m\u001b[0;34m)\u001b[0m\u001b[0;34m\u001b[0m\u001b[0;34m\u001b[0m\u001b[0m\n\u001b[0m",
      "\u001b[0;32m<ipython-input-4-80d5725149cd>\u001b[0m in \u001b[0;36mTTC_batch_computing\u001b[0;34m(cav_output, hdv_output, safety_distance)\u001b[0m\n\u001b[1;32m      7\u001b[0m \u001b[0;34m\u001b[0m\u001b[0m\n\u001b[1;32m      8\u001b[0m     \u001b[0mdist\u001b[0m \u001b[0;34m=\u001b[0m \u001b[0mtorch\u001b[0m\u001b[0;34m.\u001b[0m\u001b[0mnorm\u001b[0m\u001b[0;34m(\u001b[0m\u001b[0mx_diff\u001b[0m\u001b[0;34m,\u001b[0m\u001b[0mp\u001b[0m\u001b[0;34m=\u001b[0m\u001b[0;36m2\u001b[0m\u001b[0;34m,\u001b[0m\u001b[0mdim\u001b[0m\u001b[0;34m=\u001b[0m\u001b[0;34m-\u001b[0m\u001b[0;36m1\u001b[0m\u001b[0;34m)\u001b[0m \u001b[0;31m#[n_traj, n_hdv]\u001b[0m\u001b[0;34m\u001b[0m\u001b[0;34m\u001b[0m\u001b[0m\n\u001b[0;32m----> 9\u001b[0;31m     \u001b[0mprojection\u001b[0m \u001b[0;34m=\u001b[0m \u001b[0mtorch\u001b[0m\u001b[0;34m.\u001b[0m\u001b[0mbmm\u001b[0m\u001b[0;34m(\u001b[0m\u001b[0mv_diff\u001b[0m\u001b[0;34m.\u001b[0m\u001b[0mview\u001b[0m\u001b[0;34m(\u001b[0m\u001b[0;34m-\u001b[0m\u001b[0;36m1\u001b[0m\u001b[0;34m,\u001b[0m\u001b[0;36m1\u001b[0m\u001b[0;34m,\u001b[0m\u001b[0;36m2\u001b[0m\u001b[0;34m)\u001b[0m\u001b[0;34m,\u001b[0m\u001b[0mx_diff\u001b[0m\u001b[0;34m.\u001b[0m\u001b[0mview\u001b[0m\u001b[0;34m(\u001b[0m\u001b[0;34m-\u001b[0m\u001b[0;36m1\u001b[0m\u001b[0;34m,\u001b[0m\u001b[0;36m2\u001b[0m\u001b[0;34m,\u001b[0m\u001b[0;36m1\u001b[0m\u001b[0;34m)\u001b[0m\u001b[0;34m)\u001b[0m\u001b[0;34m.\u001b[0m\u001b[0mview\u001b[0m\u001b[0;34m(\u001b[0m\u001b[0mn_traj\u001b[0m\u001b[0;34m,\u001b[0m\u001b[0mn_hdv\u001b[0m\u001b[0;34m)\u001b[0m\u001b[0;34m\u001b[0m\u001b[0;34m\u001b[0m\u001b[0m\n\u001b[0m\u001b[1;32m     10\u001b[0m     \u001b[0mprojection\u001b[0m \u001b[0;34m=\u001b[0m \u001b[0mtorch\u001b[0m\u001b[0;34m.\u001b[0m\u001b[0mtrue_divide\u001b[0m\u001b[0;34m(\u001b[0m\u001b[0mprojection\u001b[0m\u001b[0;34m,\u001b[0m\u001b[0mdist\u001b[0m\u001b[0;34m)\u001b[0m\u001b[0;34m\u001b[0m\u001b[0;34m\u001b[0m\u001b[0m\n\u001b[1;32m     11\u001b[0m     \u001b[0mttc\u001b[0m \u001b[0;34m=\u001b[0m \u001b[0mtorch\u001b[0m\u001b[0;34m.\u001b[0m\u001b[0mtrue_divide\u001b[0m\u001b[0;34m(\u001b[0m\u001b[0mdist\u001b[0m\u001b[0;34m-\u001b[0m\u001b[0msafety_distance\u001b[0m\u001b[0;34m,\u001b[0m\u001b[0mprojection\u001b[0m\u001b[0;34m)\u001b[0m \u001b[0;31m# [n_traj, n_hdv]\u001b[0m\u001b[0;34m\u001b[0m\u001b[0;34m\u001b[0m\u001b[0m\n",
      "\u001b[0;31mNameError\u001b[0m: name 'n_traj' is not defined"
     ]
    }
   ],
   "source": [
    "def TTC_batch_computing(cav_output, hdv_output, safety_distance):\n",
    "\n",
    "    diff = cav_output[:,:4].unsqueeze(1) - hdv_output[:,:4].unsqueeze(0) # [n_traj, n_hdv, 4] (x,y,vx,vy)\n",
    "\n",
    "    x_diff = diff[:,:,:2] # [n_traj, n_hdv, 2]\n",
    "    v_diff = diff[:,:,2:] # [n_traj, n_hdv, 2]\n",
    "\n",
    "    dist = torch.norm(x_diff,p=2,dim=-1) #[n_traj, n_hdv]\n",
    "    projection = torch.bmm(v_diff.view(-1,1,2),x_diff.view(-1,2,1)).view(n_traj,n_hdv)\n",
    "    projection = torch.true_divide(projection,dist)\n",
    "    ttc = torch.true_divide(dist-safety_distance,projection) # [n_traj, n_hdv]\n",
    "\n",
    "    return ttc \n",
    "\n",
    "toy_cav_output = torch.tensor(np.repeat(np.array([1,2,3]).reshape(-1,1),repeats=6,axis=1),requires_grad=False).float()\n",
    "toy_hdv_output = torch.tensor(np.repeat(np.array([10,20,30,40]).reshape(-1,1),repeats=6,axis=1),requires_grad=False).float()\n",
    "\n",
    "TTC_batch_computing(toy_cav_output,toy_hdv_output,safety_distance=0)"
   ]
  },
  {
   "cell_type": "code",
   "execution_count": 20,
   "metadata": {},
   "outputs": [
    {
     "data": {
      "text/plain": [
       "tensor([[[ -8.,  -8.,  -8.,  -8.],\n",
       "         [-18., -18., -18., -18.],\n",
       "         [-28., -28., -28., -28.],\n",
       "         [-38., -38., -38., -38.]],\n",
       "\n",
       "        [[ -7.,  -7.,  -7.,  -7.],\n",
       "         [-17., -17., -17., -17.],\n",
       "         [-27., -27., -27., -27.],\n",
       "         [-37., -37., -37., -37.]],\n",
       "\n",
       "        [[ -6.,  -6.,  -6.,  -6.],\n",
       "         [-16., -16., -16., -16.],\n",
       "         [-26., -26., -26., -26.],\n",
       "         [-36., -36., -36., -36.]]])"
      ]
     },
     "execution_count": 20,
     "metadata": {},
     "output_type": "execute_result"
    }
   ],
   "source": [
    "diff+1"
   ]
  },
  {
   "cell_type": "code",
   "execution_count": 14,
   "metadata": {},
   "outputs": [
    {
     "data": {
      "text/plain": [
       "tensor([[12.7279, 26.8701, 41.0122, 55.1543],\n",
       "        [11.3137, 25.4558, 39.5980, 53.7401],\n",
       "        [ 9.8995, 24.0416, 38.1838, 52.3259]])"
      ]
     },
     "execution_count": 14,
     "metadata": {},
     "output_type": "execute_result"
    }
   ],
   "source": [
    "torch.norm(x_diff,p=2,dim=-1)"
   ]
  },
  {
   "cell_type": "code",
   "execution_count": 15,
   "metadata": {},
   "outputs": [
    {
     "data": {
      "text/plain": [
       "12.727922061357855"
      ]
     },
     "execution_count": 15,
     "metadata": {},
     "output_type": "execute_result"
    }
   ],
   "source": [
    "np.sqrt(9**2*2)"
   ]
  },
  {
   "cell_type": "markdown",
   "metadata": {},
   "source": [
    "### Numpy"
   ]
  },
  {
   "cell_type": "code",
   "execution_count": 98,
   "metadata": {},
   "outputs": [
    {
     "data": {
      "text/plain": [
       "array([[[ -9,  -9,  -9,  -9],\n",
       "        [-19, -19, -19, -19],\n",
       "        [-29, -29, -29, -29],\n",
       "        [-39, -39, -39, -39]],\n",
       "\n",
       "       [[ -8,  -8,  -8,  -8],\n",
       "        [-18, -18, -18, -18],\n",
       "        [-28, -28, -28, -28],\n",
       "        [-38, -38, -38, -38]],\n",
       "\n",
       "       [[ -7,  -7,  -7,  -7],\n",
       "        [-17, -17, -17, -17],\n",
       "        [-27, -27, -27, -27],\n",
       "        [-37, -37, -37, -37]]])"
      ]
     },
     "execution_count": 98,
     "metadata": {},
     "output_type": "execute_result"
    }
   ],
   "source": [
    "diff = np.expand_dims(cav_output[:,:4],axis=1) - np.expand_dims(hdv_output[:,:4],axis=0)\n",
    "diff"
   ]
  },
  {
   "cell_type": "code",
   "execution_count": 121,
   "metadata": {},
   "outputs": [
    {
     "data": {
      "text/plain": [
       "(3, 4, 3, 4)"
      ]
     },
     "execution_count": 121,
     "metadata": {},
     "output_type": "execute_result"
    }
   ],
   "source": [
    "np.tensordot(diff[:,:,:2],diff[:,:,2:],axes=([2],[2])).shape"
   ]
  },
  {
   "cell_type": "code",
   "execution_count": 117,
   "metadata": {},
   "outputs": [],
   "source": [
    "n_traj, n_hdv,_ = diff.shape"
   ]
  },
  {
   "cell_type": "code",
   "execution_count": null,
   "metadata": {},
   "outputs": [],
   "source": [
    "diff[:,:,:2]"
   ]
  },
  {
   "cell_type": "code",
   "execution_count": 119,
   "metadata": {},
   "outputs": [
    {
     "data": {
      "text/plain": [
       "(3, 8)"
      ]
     },
     "execution_count": 119,
     "metadata": {},
     "output_type": "execute_result"
    }
   ],
   "source": [
    "diff[:,:,:2].reshape(n_traj,-1).shape"
   ]
  },
  {
   "cell_type": "code",
   "execution_count": null,
   "metadata": {},
   "outputs": [],
   "source": [
    "diff[:,:,2:].reshape(n_traj,-1)"
   ]
  },
  {
   "cell_type": "code",
   "execution_count": null,
   "metadata": {},
   "outputs": [],
   "source": []
  },
  {
   "cell_type": "code",
   "execution_count": 108,
   "metadata": {},
   "outputs": [
    {
     "data": {
      "text/plain": [
       "tensor([[0.8000, 1.0000,    inf],\n",
       "        [1.0000, 0.6667,    inf]])"
      ]
     },
     "execution_count": 108,
     "metadata": {},
     "output_type": "execute_result"
    }
   ],
   "source": [
    "def TTC_batch_computing(cav_output, hdv_output, safety_distance):\n",
    "    # cav_output.shape = [num_trj, feature_size=6]\n",
    "    # hdv_output.shape = [num_hdvs, feature_size=6] \n",
    "    ### TTC function \n",
    "    #{||delta_d|| - safety_distance}/{(-delta_v.dot(delta_d)) / ||delta_d||}\n",
    "\n",
    "    diff = cav_output[:,:4].unsqueeze(1) - hdv_output[:,:4].unsqueeze(0) # [n_traj, n_hdv, 4] (x,y,vx,vy)\n",
    "\n",
    "    n_traj, n_hdv, _ = diff.shape\n",
    "\n",
    "    x_diff = diff[:,:,:2] # [n_traj, n_hdv, 2]\n",
    "    v_diff = diff[:,:,2:] # [n_traj, n_hdv, 2]\n",
    "\n",
    "    dist = torch.norm(x_diff,p=2,dim=-1) #[n_traj, n_hdv]\n",
    "    projection = torch.bmm(v_diff.view(-1,1,2),x_diff.view(-1,2,1)).view(n_traj,n_hdv)\n",
    "    projection = torch.div(-projection,dist)\n",
    "\n",
    "    valid_distance = dist - safety_distance\n",
    "    valid_distance[valid_distance<0] = 1e-4 # already below safety distance\n",
    "\n",
    "    ttc = torch.div(valid_distance,projection) # [n_traj, n_hdv]\n",
    "\n",
    "    ttc[ttc<0] = float('inf')\n",
    "\n",
    "    return ttc\n",
    "\n",
    "cav_out_toy = torch.tensor([[0,0,1,2,9,9],[0,0,2,0,9,9]]).view([-1,6]).float()\n",
    "hdv_out_toy = torch.tensor([[2,2,-1,-1,8,8],[2,0,-1,0,8,8],[2,0,3,0,8,8]]).view([-1,6]).float()\n",
    "\n",
    "TTC_batch_computing(cav_out_toy,hdv_out_toy,0)"
   ]
  },
  {
   "cell_type": "code",
   "execution_count": null,
   "metadata": {},
   "outputs": [],
   "source": []
  },
  {
   "cell_type": "code",
   "execution_count": 8,
   "metadata": {},
   "outputs": [
    {
     "ename": "IndexError",
     "evalue": "too many indices for tensor of dimension 1",
     "output_type": "error",
     "traceback": [
      "\u001b[0;31m---------------------------------------------------------------------------\u001b[0m",
      "\u001b[0;31mIndexError\u001b[0m                                Traceback (most recent call last)",
      "\u001b[0;32m<ipython-input-8-b812450e9274>\u001b[0m in \u001b[0;36m<module>\u001b[0;34m\u001b[0m\n\u001b[1;32m      1\u001b[0m \u001b[0mtoy_cav_output\u001b[0m \u001b[0;34m=\u001b[0m \u001b[0mtorch\u001b[0m\u001b[0;34m.\u001b[0m\u001b[0mtensor\u001b[0m\u001b[0;34m(\u001b[0m\u001b[0mnp\u001b[0m\u001b[0;34m.\u001b[0m\u001b[0mrepeat\u001b[0m\u001b[0;34m(\u001b[0m\u001b[0mnp\u001b[0m\u001b[0;34m.\u001b[0m\u001b[0marray\u001b[0m\u001b[0;34m(\u001b[0m\u001b[0;34m[\u001b[0m\u001b[0;36m1\u001b[0m\u001b[0;34m,\u001b[0m\u001b[0;36m2\u001b[0m\u001b[0;34m,\u001b[0m\u001b[0;36m3\u001b[0m\u001b[0;34m]\u001b[0m\u001b[0;34m)\u001b[0m\u001b[0;34m,\u001b[0m\u001b[0mrepeats\u001b[0m\u001b[0;34m=\u001b[0m\u001b[0;36m6\u001b[0m\u001b[0;34m,\u001b[0m\u001b[0maxis\u001b[0m\u001b[0;34m=\u001b[0m\u001b[0;36m0\u001b[0m\u001b[0;34m)\u001b[0m\u001b[0;34m,\u001b[0m\u001b[0mrequires_grad\u001b[0m\u001b[0;34m=\u001b[0m\u001b[0;32mFalse\u001b[0m\u001b[0;34m)\u001b[0m\u001b[0;34m.\u001b[0m\u001b[0mfloat\u001b[0m\u001b[0;34m(\u001b[0m\u001b[0;34m)\u001b[0m\u001b[0;34m\u001b[0m\u001b[0;34m\u001b[0m\u001b[0m\n\u001b[1;32m      2\u001b[0m \u001b[0mtoy_hdv_output\u001b[0m \u001b[0;34m=\u001b[0m \u001b[0mtorch\u001b[0m\u001b[0;34m.\u001b[0m\u001b[0mtensor\u001b[0m\u001b[0;34m(\u001b[0m\u001b[0mnp\u001b[0m\u001b[0;34m.\u001b[0m\u001b[0mrepeat\u001b[0m\u001b[0;34m(\u001b[0m\u001b[0mnp\u001b[0m\u001b[0;34m.\u001b[0m\u001b[0marray\u001b[0m\u001b[0;34m(\u001b[0m\u001b[0;34m[\u001b[0m\u001b[0;36m10\u001b[0m\u001b[0;34m,\u001b[0m\u001b[0;36m20\u001b[0m\u001b[0;34m,\u001b[0m\u001b[0;36m30\u001b[0m\u001b[0;34m,\u001b[0m\u001b[0;36m40\u001b[0m\u001b[0;34m]\u001b[0m\u001b[0;34m)\u001b[0m\u001b[0;34m.\u001b[0m\u001b[0mreshape\u001b[0m\u001b[0;34m(\u001b[0m\u001b[0;34m-\u001b[0m\u001b[0;36m1\u001b[0m\u001b[0;34m,\u001b[0m\u001b[0;36m1\u001b[0m\u001b[0;34m)\u001b[0m\u001b[0;34m,\u001b[0m\u001b[0mrepeats\u001b[0m\u001b[0;34m=\u001b[0m\u001b[0;36m6\u001b[0m\u001b[0;34m,\u001b[0m\u001b[0maxis\u001b[0m\u001b[0;34m=\u001b[0m\u001b[0;36m1\u001b[0m\u001b[0;34m)\u001b[0m\u001b[0;34m,\u001b[0m\u001b[0mrequires_grad\u001b[0m\u001b[0;34m=\u001b[0m\u001b[0;32mFalse\u001b[0m\u001b[0;34m)\u001b[0m\u001b[0;34m.\u001b[0m\u001b[0mfloat\u001b[0m\u001b[0;34m(\u001b[0m\u001b[0;34m)\u001b[0m\u001b[0;34m\u001b[0m\u001b[0;34m\u001b[0m\u001b[0m\n\u001b[0;32m----> 3\u001b[0;31m \u001b[0mTTC_batch_computing\u001b[0m\u001b[0;34m(\u001b[0m\u001b[0mtoy_cav_output\u001b[0m\u001b[0;34m,\u001b[0m\u001b[0mtoy_hdv_output\u001b[0m\u001b[0;34m,\u001b[0m\u001b[0msafety_distance\u001b[0m\u001b[0;34m=\u001b[0m\u001b[0;36m0\u001b[0m\u001b[0;34m)\u001b[0m\u001b[0;34m\u001b[0m\u001b[0;34m\u001b[0m\u001b[0m\n\u001b[0m",
      "\u001b[0;32m<ipython-input-5-ca9dfd353776>\u001b[0m in \u001b[0;36mTTC_batch_computing\u001b[0;34m(cav_output, hdv_output, safety_distance)\u001b[0m\n\u001b[1;32m      1\u001b[0m \u001b[0;32mdef\u001b[0m \u001b[0mTTC_batch_computing\u001b[0m\u001b[0;34m(\u001b[0m\u001b[0mcav_output\u001b[0m\u001b[0;34m,\u001b[0m \u001b[0mhdv_output\u001b[0m\u001b[0;34m,\u001b[0m \u001b[0msafety_distance\u001b[0m\u001b[0;34m)\u001b[0m\u001b[0;34m:\u001b[0m\u001b[0;34m\u001b[0m\u001b[0;34m\u001b[0m\u001b[0m\n\u001b[1;32m      2\u001b[0m \u001b[0;34m\u001b[0m\u001b[0m\n\u001b[0;32m----> 3\u001b[0;31m     \u001b[0mdiff\u001b[0m \u001b[0;34m=\u001b[0m \u001b[0mcav_output\u001b[0m\u001b[0;34m[\u001b[0m\u001b[0;34m:\u001b[0m\u001b[0;34m,\u001b[0m\u001b[0;34m:\u001b[0m\u001b[0;36m4\u001b[0m\u001b[0;34m]\u001b[0m\u001b[0;34m.\u001b[0m\u001b[0munsqueeze\u001b[0m\u001b[0;34m(\u001b[0m\u001b[0;36m1\u001b[0m\u001b[0;34m)\u001b[0m \u001b[0;34m-\u001b[0m \u001b[0mhdv_output\u001b[0m\u001b[0;34m[\u001b[0m\u001b[0;34m:\u001b[0m\u001b[0;34m,\u001b[0m\u001b[0;34m:\u001b[0m\u001b[0;36m4\u001b[0m\u001b[0;34m]\u001b[0m\u001b[0;34m.\u001b[0m\u001b[0munsqueeze\u001b[0m\u001b[0;34m(\u001b[0m\u001b[0;36m0\u001b[0m\u001b[0;34m)\u001b[0m \u001b[0;31m# [n_traj, n_hdv, 4] (x,y,vx,vy)\u001b[0m\u001b[0;34m\u001b[0m\u001b[0;34m\u001b[0m\u001b[0m\n\u001b[0m\u001b[1;32m      4\u001b[0m \u001b[0;34m\u001b[0m\u001b[0m\n\u001b[1;32m      5\u001b[0m     \u001b[0mn_traj\u001b[0m\u001b[0;34m,\u001b[0m \u001b[0mn_hdv\u001b[0m\u001b[0;34m,\u001b[0m \u001b[0m_\u001b[0m \u001b[0;34m=\u001b[0m \u001b[0mdiff\u001b[0m\u001b[0;34m.\u001b[0m\u001b[0mshape\u001b[0m\u001b[0;34m\u001b[0m\u001b[0;34m\u001b[0m\u001b[0m\n",
      "\u001b[0;31mIndexError\u001b[0m: too many indices for tensor of dimension 1"
     ]
    }
   ],
   "source": [
    "toy_cav_output = torch.tensor(,requires_grad=False).float()\n",
    "toy_hdv_output = torch.tensor(np.repeat(np.array([10,20,30,40]).reshape(-1,1),repeats=6,axis=1),requires_grad=False).float()\n",
    "TTC_batch_computing(toy_cav_output,toy_hdv_output,safety_distance=0)"
   ]
  },
  {
   "cell_type": "code",
   "execution_count": 13,
   "metadata": {},
   "outputs": [
    {
     "data": {
      "text/plain": [
       "array([[1, 2, 3],\n",
       "       [1, 2, 3],\n",
       "       [1, 2, 3],\n",
       "       [1, 2, 3],\n",
       "       [1, 2, 3],\n",
       "       [1, 2, 3]])"
      ]
     },
     "execution_count": 13,
     "metadata": {},
     "output_type": "execute_result"
    }
   ],
   "source": [
    "np.repeat(np.array([1,2,3]).reshape(1,-1),repeats=6,axis=0)"
   ]
  },
  {
   "cell_type": "markdown",
   "metadata": {},
   "source": [
    "## Draft gradient based optimization"
   ]
  },
  {
   "cell_type": "code",
   "execution_count": 23,
   "metadata": {},
   "outputs": [
    {
     "data": {
      "text/plain": [
       "tensor([[-0.1503,  0.0911, -0.9458],\n",
       "        [-0.1827,  0.2082, -1.5733]])"
      ]
     },
     "execution_count": 23,
     "metadata": {},
     "output_type": "execute_result"
    }
   ],
   "source": [
    "t = torch.randn([2,3])\n",
    "t"
   ]
  },
  {
   "cell_type": "code",
   "execution_count": 24,
   "metadata": {},
   "outputs": [
    {
     "data": {
      "text/plain": [
       "tensor([[0.3670, 0.4673, 0.1657],\n",
       "        [0.3667, 0.5420, 0.0913]])"
      ]
     },
     "execution_count": 24,
     "metadata": {},
     "output_type": "execute_result"
    }
   ],
   "source": [
    "torch.softmax(t, dim=1)"
   ]
  },
  {
   "cell_type": "code",
   "execution_count": 67,
   "metadata": {},
   "outputs": [
    {
     "name": "stdout",
     "output_type": "stream",
     "text": [
      "./models/cav_linreg_nonseq.pt ./models/hdv_linreg_nonseq.pt\n",
      "successfully loaded the linreg model\n"
     ]
    }
   ],
   "source": [
    "from traj_pred_models import build_model\n",
    "return_sequence = False\n",
    "model_type = 'linreg'\n",
    "seq_flag = 'seq' if return_sequence else 'nonseq'\n",
    "cav_model_file = './models/{}_{}_{}.pt'.format('cav', model_type, seq_flag)\n",
    "hdv_model_file = './models/{}_{}_{}.pt'.format('hdv', model_type, seq_flag)\n",
    "\n",
    "cav_predictor, hdv_predictor, _, _ = build_model(model_type, return_sequence)\n",
    "\n",
    "print(cav_model_file,hdv_model_file)\n",
    "\n",
    "try:\n",
    "    cav_predictor.load_state_dict(torch.load(cav_model_file))\n",
    "    hdv_predictor.load_state_dict(torch.load(hdv_model_file))\n",
    "\n",
    "    cav_predictor.eval()\n",
    "    hdv_predictor.eval()\n",
    "\n",
    "    print(\"successfully loaded the %s model\"%model_type)\n",
    "except:\n",
    "    pass"
   ]
  },
  {
   "cell_type": "code",
   "execution_count": 68,
   "metadata": {},
   "outputs": [],
   "source": [
    "import pickle\n",
    "with open('./experience_data/data_pickle.pickle','rb') as f:\n",
    "    d = pickle.load(f)"
   ]
  },
  {
   "cell_type": "code",
   "execution_count": 70,
   "metadata": {},
   "outputs": [
    {
     "data": {
      "text/plain": [
       "(torch.Size([10, 5, 9]), torch.Size([30, 5, 6]))"
      ]
     },
     "execution_count": 70,
     "metadata": {},
     "output_type": "execute_result"
    }
   ],
   "source": [
    "state_batch, action_batch, next_state_batch = next(d.random_iterator(10,return_sequence=False,return_tensor=True))\n",
    "\n",
    "cav_X = torch.cat([state_batch['CAV'],state_batch['current_control']],dim=-1)\n",
    "outputs = cav_predictor.forward(cav_X)\n",
    "hdv_X = torch.cat([state_batch[key] for key in state_batch if key!='CAV'and key!='current_control'],dim=0)\n",
    "\n",
    "cav_X.shape,hdv_X.shape"
   ]
  },
  {
   "cell_type": "code",
   "execution_count": 72,
   "metadata": {},
   "outputs": [
    {
     "data": {
      "text/plain": [
       "tensor([[ 1.0000e+00,  2.0000e-01,  0.0000e+00],\n",
       "        [ 0.0000e+00,  2.0000e-01,  0.0000e+00],\n",
       "        [ 0.0000e+00, -8.0000e-01,  0.0000e+00],\n",
       "        [ 0.0000e+00,  1.0000e-01,  0.0000e+00],\n",
       "        [ 1.0000e+00, -1.1000e+00,  0.0000e+00],\n",
       "        [ 0.0000e+00,  0.0000e+00,  0.0000e+00],\n",
       "        [ 0.0000e+00,  2.7756e-17,  1.0000e+00],\n",
       "        [ 0.0000e+00,  0.0000e+00,  0.0000e+00],\n",
       "        [ 1.0000e+00,  1.0000e-01,  0.0000e+00],\n",
       "        [ 0.0000e+00,  1.0000e-01,  1.0000e+00]])"
      ]
     },
     "execution_count": 72,
     "metadata": {},
     "output_type": "execute_result"
    }
   ],
   "source": [
    "current_controls = cav_X[:,-1,-3:]"
   ]
  },
  {
   "cell_type": "code",
   "execution_count": 80,
   "metadata": {},
   "outputs": [],
   "source": [
    "import numpy as np\n",
    "random_actions = np.random.choice(3,size=[20,10,2]) #[horizon, num_traj, 2]\n",
    "def process_action(action, current_control):\n",
    "    # this function is the same as in the controller module\n",
    "    dec = action.copy()\n",
    "    dec -= 1\n",
    "    if dec[0]==-1:\n",
    "        throttle = 0\n",
    "        brake = 1\n",
    "    elif dec[0] == 0:\n",
    "        throttle = 0\n",
    "        brake = 0\n",
    "    elif dec[0]==1:\n",
    "        throttle = 1\n",
    "        brake = 0\n",
    "    else:\n",
    "        print(dec)\n",
    "        raise Exception(\"no specific throttle brake control command\")\n",
    "\n",
    "    steer = current_control[1] + dec[1]*0.1\n",
    "    return [throttle, steer, brake]\n",
    "\n",
    "new_control  = torch.tensor([process_action(a,c) for a,c in zip(random_actions[0],current_controls)]).float()"
   ]
  },
  {
   "cell_type": "code",
   "execution_count": 83,
   "metadata": {},
   "outputs": [
    {
     "data": {
      "text/plain": [
       "tensor([[ 1.0000e+00,  2.0000e-01,  0.0000e+00],\n",
       "        [ 0.0000e+00,  2.0000e-01,  0.0000e+00],\n",
       "        [ 0.0000e+00, -8.0000e-01,  0.0000e+00],\n",
       "        [ 0.0000e+00,  1.0000e-01,  0.0000e+00],\n",
       "        [ 1.0000e+00, -1.1000e+00,  0.0000e+00],\n",
       "        [ 0.0000e+00,  0.0000e+00,  0.0000e+00],\n",
       "        [ 0.0000e+00,  2.7756e-17,  1.0000e+00],\n",
       "        [ 0.0000e+00,  0.0000e+00,  0.0000e+00],\n",
       "        [ 1.0000e+00,  1.0000e-01,  0.0000e+00],\n",
       "        [ 0.0000e+00,  1.0000e-01,  1.0000e+00]])"
      ]
     },
     "execution_count": 83,
     "metadata": {},
     "output_type": "execute_result"
    }
   ],
   "source": [
    "current_controls\n"
   ]
  },
  {
   "cell_type": "code",
   "execution_count": 82,
   "metadata": {},
   "outputs": [
    {
     "data": {
      "text/plain": [
       "array([[2, 2],\n",
       "       [2, 0],\n",
       "       [0, 0],\n",
       "       [0, 2],\n",
       "       [2, 1],\n",
       "       [2, 0],\n",
       "       [2, 1],\n",
       "       [2, 2],\n",
       "       [0, 2],\n",
       "       [2, 0]])"
      ]
     },
     "execution_count": 82,
     "metadata": {},
     "output_type": "execute_result"
    }
   ],
   "source": [
    "random_actions[0]"
   ]
  },
  {
   "cell_type": "code",
   "execution_count": 81,
   "metadata": {},
   "outputs": [
    {
     "data": {
      "text/plain": [
       "tensor([[ 1.0000e+00,  3.0000e-01,  0.0000e+00],\n",
       "        [ 1.0000e+00,  1.0000e-01,  0.0000e+00],\n",
       "        [ 0.0000e+00, -9.0000e-01,  1.0000e+00],\n",
       "        [ 0.0000e+00,  2.0000e-01,  1.0000e+00],\n",
       "        [ 1.0000e+00, -1.1000e+00,  0.0000e+00],\n",
       "        [ 1.0000e+00, -1.0000e-01,  0.0000e+00],\n",
       "        [ 1.0000e+00,  2.7756e-17,  0.0000e+00],\n",
       "        [ 1.0000e+00,  1.0000e-01,  0.0000e+00],\n",
       "        [ 0.0000e+00,  2.0000e-01,  1.0000e+00],\n",
       "        [ 1.0000e+00,  0.0000e+00,  0.0000e+00]])"
      ]
     },
     "execution_count": 81,
     "metadata": {},
     "output_type": "execute_result"
    }
   ],
   "source": [
    "new_control"
   ]
  },
  {
   "cell_type": "code",
   "execution_count": 64,
   "metadata": {},
   "outputs": [
    {
     "data": {
      "text/plain": [
       "tensor([[ 0.5462,  0.1896, -0.2812],\n",
       "        [ 0.0329,  0.5518, -0.1629]])"
      ]
     },
     "execution_count": 64,
     "metadata": {},
     "output_type": "execute_result"
    }
   ],
   "source": [
    "init = torch.randn([2,3])\n",
    "init"
   ]
  },
  {
   "cell_type": "code",
   "execution_count": null,
   "metadata": {},
   "outputs": [],
   "source": []
  },
  {
   "cell_type": "code",
   "execution_count": 84,
   "metadata": {},
   "outputs": [
    {
     "data": {
      "text/plain": [
       "array([[0, 1, 2],\n",
       "       [3, 4, 5],\n",
       "       [6, 7, 8]])"
      ]
     },
     "execution_count": 84,
     "metadata": {},
     "output_type": "execute_result"
    }
   ],
   "source": [
    "a = np.arange(9).reshape(3,3)\n",
    "a"
   ]
  },
  {
   "cell_type": "code",
   "execution_count": 88,
   "metadata": {},
   "outputs": [
    {
     "data": {
      "text/plain": [
       "array([[0, 1, 2],\n",
       "       [3, 4, 0],\n",
       "       [0, 0, 0]])"
      ]
     },
     "execution_count": 88,
     "metadata": {},
     "output_type": "execute_result"
    }
   ],
   "source": [
    "np.where(a<5,a,0)"
   ]
  },
  {
   "cell_type": "markdown",
   "metadata": {},
   "source": [
    "## Plot results"
   ]
  },
  {
   "cell_type": "code",
   "execution_count": 1,
   "metadata": {},
   "outputs": [],
   "source": [
    "import numpy as np\n",
    "import matplotlib.pyplot as plt\n",
    "import seaborn as sns\n",
    "import pandas as pd"
   ]
  },
  {
   "cell_type": "code",
   "execution_count": 104,
   "metadata": {},
   "outputs": [
    {
     "data": {
      "image/png": "[encoded data removed]",
      "text/plain": [
       "<Figure size 432x288 with 2 Axes>"
      ]
     },
     "metadata": {
      "needs_background": "light"
     },
     "output_type": "display_data"
    }
   ],
   "source": [
    "def heatmap_plot(data_f):\n",
    "    data = pd.read_csv(data_f,delimiter=' ', header=None)\n",
    "    data.columns = ['planning horizon','num trajectories','success rate']\n",
    "    new = pd.pivot_table(data,columns='num trajectories',index='planning horizon',values='success rate')\n",
    "    ax = sns.heatmap(new,annot=True,cmap='RdYlGn')\n",
    "    ax.invert_yaxis()\n",
    "    plt.title(\"Success rate\")\n",
    "heatmap_plot('./result20.txt')\n",
    "plt.savefig('./figures/20speed_new.png',dpi=300)\n",
    "# plt.savefig('./figures/20speed.png',dpi=300)"
   ]
  },
  {
   "cell_type": "code",
   "execution_count": 105,
   "metadata": {},
   "outputs": [
    {
     "data": {
      "image/png": "[encoded data removed]",
      "text/plain": [
       "<Figure size 432x288 with 2 Axes>"
      ]
     },
     "metadata": {
      "needs_background": "light"
     },
     "output_type": "display_data"
    }
   ],
   "source": [
    "heatmap_plot('./result15.txt')\n",
    "plt.savefig('./figures/15speed_new.png',dpi=300)\n",
    "# plt.savefig('./figures/15speed.png',dpi=300)"
   ]
  },
  {
   "cell_type": "code",
   "execution_count": 106,
   "metadata": {},
   "outputs": [
    {
     "data": {
      "image/png": "[encoded data removed]",
      "text/plain": [
       "<Figure size 432x288 with 2 Axes>"
      ]
     },
     "metadata": {
      "needs_background": "light"
     },
     "output_type": "display_data"
    }
   ],
   "source": [
    "heatmap_plot('./25new.txt')\n",
    "plt.savefig('./figures/25speed_new.png',dpi=300)"
   ]
  },
  {
   "cell_type": "code",
   "execution_count": null,
   "metadata": {},
   "outputs": [],
   "source": []
  }
 ],
 "metadata": {
  "interpreter": {
   "hash": "254c7f0c7a2427f922c1b3b4e2c4b17514afda6d39237b0d3369b5d717eff361"
  },
  "kernelspec": {
   "display_name": "Python 3 (ipykernel)",
   "language": "python",
   "name": "python3"
  },
  "language_info": {
   "codemirror_mode": {
    "name": "ipython",
    "version": 3
   },
   "file_extension": ".py",
   "mimetype": "text/x-python",
   "name": "python",
   "nbconvert_exporter": "python",
   "pygments_lexer": "ipython3",
   "version": "3.9.5"
  },
  "metadata": {
   "interpreter": {
    "hash": "254c7f0c7a2427f922c1b3b4e2c4b17514afda6d39237b0d3369b5d717eff361"
   }
  }
 },
 "nbformat": 4,
 "nbformat_minor": 2
}
